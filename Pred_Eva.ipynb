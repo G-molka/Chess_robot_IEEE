{
 "cells": [
  {
   "cell_type": "code",
   "execution_count": 2,
   "id": "5e124c95-b58e-4fd4-baac-aaa5004bc996",
   "metadata": {},
   "outputs": [
    {
     "name": "stdout",
     "output_type": "stream",
     "text": [
      "File extracted successfully!\n"
     ]
    }
   ],
   "source": [
    "import zipfile\n",
    "\n",
    "# Specify the path to the zip file\n",
    "zip_file_path = \"C:/Users/starf/OneDrive/Bureau/archive.zip\"\n",
    "\n",
    "# Specify the directory where you want to extract the contents\n",
    "extract_to_path = \"C:/Users/starf/OneDrive/Desktop/chess\"\n",
    "\n",
    "# Unzip the file\n",
    "with zipfile.ZipFile(zip_file_path, 'r') as zip_ref:\n",
    "    zip_ref.extractall(extract_to_path)\n",
    "\n",
    "print(\"File extracted successfully!\")"
   ]
  },
  {
   "cell_type": "code",
   "execution_count": 4,
   "id": "c0210355-e644-442b-957f-88020d5b308d",
   "metadata": {},
   "outputs": [],
   "source": [
    "import pandas as pd\n",
    "import numpy as np\n",
    "from tensorflow.keras.models import Sequential\n",
    "from tensorflow.keras.layers import Dense, Dropout, Embedding, LSTM\n",
    "from sklearn.model_selection import train_test_split\n",
    "from sklearn.preprocessing import LabelEncoder\n",
    "\n"
   ]
  },
  {
   "cell_type": "code",
   "execution_count": 6,
   "id": "c3b7034a-1ff6-4f4f-bf9b-2f11b97ba0dd",
   "metadata": {},
   "outputs": [
    {
     "name": "stdout",
     "output_type": "stream",
     "text": [
      "Dataset Preview:\n",
      "                                                  FEN Evaluation\n",
      "0  rnbqkbnr/pppppppp/8/8/4P3/8/PPPP1PPP/RNBQKBNR ...        -10\n",
      "1  rnbqkbnr/pppp1ppp/4p3/8/4P3/8/PPPP1PPP/RNBQKBN...        +56\n",
      "2  rnbqkbnr/pppp1ppp/4p3/8/3PP3/8/PPP2PPP/RNBQKBN...         -9\n",
      "3  rnbqkbnr/ppp2ppp/4p3/3p4/3PP3/8/PPP2PPP/RNBQKB...        +52\n",
      "4  rnbqkbnr/ppp2ppp/4p3/3p4/3PP3/8/PPPN1PPP/R1BQK...        -26\n",
      "Dataset Preview:\n",
      "                                                  FEN Evaluation\n",
      "0  rnbqkb1r/pppppppp/B4n2/8/4P3/8/PPPP1PPP/RNBQK1...       -459\n",
      "1  rnbqkb1r/pppppppp/5n2/1B6/4P3/8/PPPP1PPP/RNBQK...       -125\n",
      "2  rnbqkbnr/p1pppppp/8/1p6/4P3/8/PPPP1PPP/RNBQKBN...       +198\n",
      "3  rnbqkb1r/pppppppp/5n2/8/4P3/7N/PPPP1PPP/RNBQKB...       -155\n",
      "4  rnbqkbnr/ppppp1pp/8/5p2/4P3/8/PPPP1PPP/RNBQKBN...       +209\n",
      "Dataset Preview:\n",
      "                                                  FEN Evaluation  Move\n",
      "0  r2qkbr1/pb1nn3/1ppp3p/8/3P1p2/2PB1N1P/PPQN1PP1...        #+2  d3g6\n",
      "1  r2qkb2/pb1nn3/1ppp2rp/8/3P1p2/2P2N1P/PPQN1PP1/...        #+1  c2g6\n",
      "2  r2qkbr1/pb1nn3/1ppp2Bp/8/3P1p2/2P2N1P/PPQN1PP1...        #+1  g8g6\n",
      "3      8/7p/R5p1/2p1pkP1/7P/P4PK1/1r6/3q4 w - - 6 46        #+1  a6f6\n",
      "4  6k1/pp6/3p4/2p1p3/2P1P1q1/1P1P2pP/P5P1/5K2 w -...       +408  h3g4\n"
     ]
    }
   ],
   "source": [
    "\n",
    "# 1. Load Dataset\n",
    "data = pd.read_csv(\"C:/Users/starf/OneDrive/Bureau/archive/chessData.csv\")  # Replace with your dataset file\n",
    "print(\"Dataset Preview:\\n\", data.head())\n",
    "data2 =pd.read_csv(\"C:/Users/starf/OneDrive/Bureau/archive/random_evals.csv\")\n",
    "data3 =pd.read_csv(\"C:/Users/starf/OneDrive/Bureau/archive/tactic_evals.csv\")\n",
    "print(\"Dataset Preview:\\n\", data2.head())\n",
    "print(\"Dataset Preview:\\n\", data3.head())"
   ]
  },
  {
   "cell_type": "code",
   "execution_count": 8,
   "id": "cb9b9592-e592-4747-be55-f940bb077487",
   "metadata": {},
   "outputs": [
    {
     "data": {
      "text/html": [
       "<div>\n",
       "<style scoped>\n",
       "    .dataframe tbody tr th:only-of-type {\n",
       "        vertical-align: middle;\n",
       "    }\n",
       "\n",
       "    .dataframe tbody tr th {\n",
       "        vertical-align: top;\n",
       "    }\n",
       "\n",
       "    .dataframe thead th {\n",
       "        text-align: right;\n",
       "    }\n",
       "</style>\n",
       "<table border=\"1\" class=\"dataframe\">\n",
       "  <thead>\n",
       "    <tr style=\"text-align: right;\">\n",
       "      <th></th>\n",
       "      <th>FEN</th>\n",
       "      <th>Evaluation</th>\n",
       "      <th>Move</th>\n",
       "    </tr>\n",
       "  </thead>\n",
       "  <tbody>\n",
       "    <tr>\n",
       "      <th>0</th>\n",
       "      <td>r2qkbr1/pb1nn3/1ppp3p/8/3P1p2/2PB1N1P/PPQN1PP1...</td>\n",
       "      <td>#+2</td>\n",
       "      <td>d3g6</td>\n",
       "    </tr>\n",
       "    <tr>\n",
       "      <th>1</th>\n",
       "      <td>r2qkb2/pb1nn3/1ppp2rp/8/3P1p2/2P2N1P/PPQN1PP1/...</td>\n",
       "      <td>#+1</td>\n",
       "      <td>c2g6</td>\n",
       "    </tr>\n",
       "    <tr>\n",
       "      <th>2</th>\n",
       "      <td>r2qkbr1/pb1nn3/1ppp2Bp/8/3P1p2/2P2N1P/PPQN1PP1...</td>\n",
       "      <td>#+1</td>\n",
       "      <td>g8g6</td>\n",
       "    </tr>\n",
       "    <tr>\n",
       "      <th>3</th>\n",
       "      <td>8/7p/R5p1/2p1pkP1/7P/P4PK1/1r6/3q4 w - - 6 46</td>\n",
       "      <td>#+1</td>\n",
       "      <td>a6f6</td>\n",
       "    </tr>\n",
       "    <tr>\n",
       "      <th>4</th>\n",
       "      <td>6k1/pp6/3p4/2p1p3/2P1P1q1/1P1P2pP/P5P1/5K2 w -...</td>\n",
       "      <td>+408</td>\n",
       "      <td>h3g4</td>\n",
       "    </tr>\n",
       "    <tr>\n",
       "      <th>...</th>\n",
       "      <td>...</td>\n",
       "      <td>...</td>\n",
       "      <td>...</td>\n",
       "    </tr>\n",
       "    <tr>\n",
       "      <th>2628214</th>\n",
       "      <td>3r4/3pk3/6q1/Qp1pPpP1/1PbPn3/4B3/5RKP/8 w - - ...</td>\n",
       "      <td>-1053</td>\n",
       "      <td>a5a3</td>\n",
       "    </tr>\n",
       "    <tr>\n",
       "      <th>2628215</th>\n",
       "      <td>r2qkbnr/5ppp/p1p1p3/3p4/3P2PP/2N5/PPb1QP2/R1B1...</td>\n",
       "      <td>+215</td>\n",
       "      <td>h7h5</td>\n",
       "    </tr>\n",
       "    <tr>\n",
       "      <th>2628216</th>\n",
       "      <td>Q5b1/6pk/3q1pNp/1p1p3N/3P1P2/2P5/1P3KPP/8 b - ...</td>\n",
       "      <td>+944</td>\n",
       "      <td>h7g6</td>\n",
       "    </tr>\n",
       "    <tr>\n",
       "      <th>2628217</th>\n",
       "      <td>3rb3/ppk1r2p/6p1/2P5/4B3/P7/6PP/3Q3K w - - 0 35</td>\n",
       "      <td>-692</td>\n",
       "      <td>d1c2</td>\n",
       "    </tr>\n",
       "    <tr>\n",
       "      <th>2628218</th>\n",
       "      <td>r6k/p1R2Qp1/1pP4p/3p4/3b1PPq/B6P/P5K1/8 w - - ...</td>\n",
       "      <td>-1138</td>\n",
       "      <td>f7g7</td>\n",
       "    </tr>\n",
       "  </tbody>\n",
       "</table>\n",
       "<p>2628219 rows × 3 columns</p>\n",
       "</div>"
      ],
      "text/plain": [
       "                                                       FEN Evaluation  Move\n",
       "0        r2qkbr1/pb1nn3/1ppp3p/8/3P1p2/2PB1N1P/PPQN1PP1...        #+2  d3g6\n",
       "1        r2qkb2/pb1nn3/1ppp2rp/8/3P1p2/2P2N1P/PPQN1PP1/...        #+1  c2g6\n",
       "2        r2qkbr1/pb1nn3/1ppp2Bp/8/3P1p2/2P2N1P/PPQN1PP1...        #+1  g8g6\n",
       "3            8/7p/R5p1/2p1pkP1/7P/P4PK1/1r6/3q4 w - - 6 46        #+1  a6f6\n",
       "4        6k1/pp6/3p4/2p1p3/2P1P1q1/1P1P2pP/P5P1/5K2 w -...       +408  h3g4\n",
       "...                                                    ...        ...   ...\n",
       "2628214  3r4/3pk3/6q1/Qp1pPpP1/1PbPn3/4B3/5RKP/8 w - - ...      -1053  a5a3\n",
       "2628215  r2qkbnr/5ppp/p1p1p3/3p4/3P2PP/2N5/PPb1QP2/R1B1...       +215  h7h5\n",
       "2628216  Q5b1/6pk/3q1pNp/1p1p3N/3P1P2/2P5/1P3KPP/8 b - ...       +944  h7g6\n",
       "2628217    3rb3/ppk1r2p/6p1/2P5/4B3/P7/6PP/3Q3K w - - 0 35       -692  d1c2\n",
       "2628218  r6k/p1R2Qp1/1pP4p/3p4/3b1PPq/B6P/P5K1/8 w - - ...      -1138  f7g7\n",
       "\n",
       "[2628219 rows x 3 columns]"
      ]
     },
     "execution_count": 8,
     "metadata": {},
     "output_type": "execute_result"
    }
   ],
   "source": [
    "data\n",
    "data2\n",
    "data3"
   ]
  },
  {
   "cell_type": "code",
   "execution_count": 10,
   "id": "cc32c3e6-a83b-4142-8890-e343f6b0879f",
   "metadata": {},
   "outputs": [],
   "source": [
    "# 2. Preprocess Data\n",
    "# Assuming the dataset has columns: 'FEN' (board state) and 'Move' (next move)\n",
    "fen_strings = data['FEN'].values\n",
    "moves = data3['Move'].values\n"
   ]
  },
  {
   "cell_type": "code",
   "execution_count": 12,
   "id": "781e3a5c-eef4-4d4d-be22-75ee8451843b",
   "metadata": {},
   "outputs": [],
   "source": [
    "# Encode the moves into integers\n",
    "move_encoder = LabelEncoder()\n",
    "encoded_moves = move_encoder.fit_transform(moves)"
   ]
  },
  {
   "cell_type": "code",
   "execution_count": 14,
   "id": "166ad0cd-3bcb-4642-aa6c-45956fe0a1f7",
   "metadata": {},
   "outputs": [
    {
     "name": "stdout",
     "output_type": "stream",
     "text": [
      "Number of FEN strings: 12958035\n",
      "Number of encoded moves: 2628219\n"
     ]
    }
   ],
   "source": [
    "print(f\"Number of FEN strings: {len(fen_strings)}\")\n",
    "print(f\"Number of encoded moves: {len(encoded_moves)}\")\n"
   ]
  },
  {
   "cell_type": "code",
   "execution_count": 16,
   "id": "3b789400-1bef-4837-8e8a-65322e9becfa",
   "metadata": {},
   "outputs": [],
   "source": [
    "min_length = min(len(fen_strings), len(encoded_moves))\n"
   ]
  },
  {
   "cell_type": "code",
   "execution_count": 18,
   "id": "288929b1-323a-4b14-b0c2-5483171fcc43",
   "metadata": {},
   "outputs": [
    {
     "data": {
      "text/plain": [
       "2628219"
      ]
     },
     "execution_count": 18,
     "metadata": {},
     "output_type": "execute_result"
    }
   ],
   "source": [
    "min_length"
   ]
  },
  {
   "cell_type": "code",
   "execution_count": 20,
   "id": "92e4f0da-3b65-423b-9021-385dca75ebc6",
   "metadata": {},
   "outputs": [],
   "source": [
    "fen_strings = fen_strings[:min_length]\n",
    "encoded_moves = encoded_moves[:min_length]\n"
   ]
  },
  {
   "cell_type": "code",
   "execution_count": 22,
   "id": "b9a90f47-d3de-4ad8-bbc7-0cc692128ed2",
   "metadata": {},
   "outputs": [
    {
     "name": "stdout",
     "output_type": "stream",
     "text": [
      "Updated number of FEN strings: 2628219\n",
      "Updated number of encoded moves: 2628219\n"
     ]
    }
   ],
   "source": [
    "print(f\"Updated number of FEN strings: {len(fen_strings)}\")\n",
    "print(f\"Updated number of encoded moves: {len(encoded_moves)}\")\n"
   ]
  },
  {
   "cell_type": "code",
   "execution_count": 24,
   "id": "eb866a6e-b820-4993-8940-9b43831ef511",
   "metadata": {},
   "outputs": [],
   "source": [
    "# Split the dataset\n",
    "X_train, X_test, y_train, y_test = train_test_split(fen_strings, encoded_moves, test_size=0.2, random_state=42)"
   ]
  },
  {
   "cell_type": "code",
   "execution_count": 28,
   "id": "a9338f0f-0c12-4908-949c-93308ce05110",
   "metadata": {},
   "outputs": [],
   "source": [
    "import numpy as np\n",
    "\n",
    "# Define a fixed size for the feature vectors\n",
    "VECTOR_SIZE = 100\n",
    "\n",
    "def fen_to_vector(fen):\n",
    "    # Convert the FEN to a simple ASCII representation of fixed size (VECTOR_SIZE)\n",
    "    vector = np.array([ord(c) for c in fen if c.isalnum()])  # ASCII encoding of alphanumeric chars\n",
    "    # Pad or truncate the vector to the fixed size\n",
    "    if len(vector) < VECTOR_SIZE:\n",
    "        # Pad with zeros if the vector is shorter than the desired size\n",
    "        vector = np.pad(vector, (0, VECTOR_SIZE - len(vector)), mode='constant', constant_values=0)\n",
    "    else:\n",
    "        # Truncate the vector if it's longer than the desired size\n",
    "        vector = vector[:VECTOR_SIZE]\n",
    "    return vector\n",
    "\n"
   ]
  },
  {
   "cell_type": "code",
   "execution_count": 30,
   "id": "89e2de3a-300e-4f84-8143-e93098460772",
   "metadata": {},
   "outputs": [
    {
     "name": "stdout",
     "output_type": "stream",
     "text": [
      "(2102575, 100)\n"
     ]
    }
   ],
   "source": [
    "# Convert the FEN strings to feature vectors\n",
    "X_train = np.array([fen_to_vector(fen) for fen in X_train])\n",
    "X_test = np.array([fen_to_vector(fen) for fen in X_test])\n",
    "\n",
    "print(X_train.shape)  # Check the shape of the feature vectors\n"
   ]
  },
  {
   "cell_type": "code",
   "execution_count": 32,
   "id": "516d2851-259a-4fe7-a4b1-90d0368ffd45",
   "metadata": {},
   "outputs": [],
   "source": [
    "# Pad sequences to the same length\n",
    "max_length = max(max(len(x) for x in X_train), max(len(x) for x in X_test))\n",
    "X_train = np.array([np.pad(x, (0, max_length - len(x)), 'constant') for x in X_train])\n",
    "X_test = np.array([np.pad(x, (0, max_length - len(x)), 'constant') for x in X_test])"
   ]
  },
  {
   "cell_type": "code",
   "execution_count": 38,
   "id": "49485974-cd4d-4463-9dce-7358e21208d8",
   "metadata": {},
   "outputs": [],
   "source": [
    "from tensorflow.keras.utils import to_categorical"
   ]
  },
  {
   "cell_type": "code",
   "execution_count": 40,
   "id": "1e6eabd5-a70c-4a6d-8852-2e6aa5455b26",
   "metadata": {},
   "outputs": [],
   "source": [
    "# Convert labels to one-hot encoding\n",
    "y_train = to_categorical(y_train, num_classes=len(move_encoder.classes_))\n",
    "y_test = to_categorical(y_test, num_classes=len(move_encoder.classes_))"
   ]
  },
  {
   "cell_type": "code",
   "execution_count": 42,
   "id": "22774251-a745-4bf2-bff9-5f7fadc975de",
   "metadata": {},
   "outputs": [
    {
     "name": "stderr",
     "output_type": "stream",
     "text": [
      "C:\\Users\\starf\\anaconda3\\Lib\\site-packages\\keras\\src\\layers\\core\\embedding.py:90: UserWarning: Argument `input_length` is deprecated. Just remove it.\n",
      "  warnings.warn(\n"
     ]
    }
   ],
   "source": [
    "# Build the LSTM Model\n",
    "model = Sequential([\n",
    "    Embedding(input_dim=256, output_dim=128, input_length=max_length),\n",
    "    LSTM(128, return_sequences=False),\n",
    "    Dropout(0.2),\n",
    "    Dense(128, activation='relu'),\n",
    "    Dropout(0.2),\n",
    "    Dense(len(move_encoder.classes_), activation='softmax')\n",
    "])\n",
    "\n",
    "model.compile(optimizer='adam', loss='categorical_crossentropy', metrics=['accuracy'])"
   ]
  },
  {
   "cell_type": "code",
   "execution_count": null,
   "id": "0c769ec9-06b8-489e-a870-8cf5ee5df1ff",
   "metadata": {},
   "outputs": [
    {
     "ename": "MemoryError",
     "evalue": "Unable to allocate 15.2 GiB for an array with shape (2102575, 1943) and data type float32",
     "output_type": "error",
     "traceback": [
      "\u001b[1;31m---------------------------------------------------------------------------\u001b[0m",
      "\u001b[1;31mMemoryError\u001b[0m                               Traceback (most recent call last)",
      "Cell \u001b[1;32mIn[46], line 2\u001b[0m\n\u001b[0;32m      1\u001b[0m \u001b[38;5;66;03m# Train the model\u001b[39;00m\n\u001b[1;32m----> 2\u001b[0m history \u001b[38;5;241m=\u001b[39m model\u001b[38;5;241m.\u001b[39mfit(X_train, y_train, validation_split\u001b[38;5;241m=\u001b[39m\u001b[38;5;241m0.2\u001b[39m, epochs\u001b[38;5;241m=\u001b[39m\u001b[38;5;241m1\u001b[39m, batch_size\u001b[38;5;241m=\u001b[39m\u001b[38;5;241m32\u001b[39m)\n",
      "File \u001b[1;32m~\\anaconda3\\Lib\\site-packages\\keras\\src\\utils\\traceback_utils.py:122\u001b[0m, in \u001b[0;36mfilter_traceback.<locals>.error_handler\u001b[1;34m(*args, **kwargs)\u001b[0m\n\u001b[0;32m    119\u001b[0m     filtered_tb \u001b[38;5;241m=\u001b[39m _process_traceback_frames(e\u001b[38;5;241m.\u001b[39m__traceback__)\n\u001b[0;32m    120\u001b[0m     \u001b[38;5;66;03m# To get the full stack trace, call:\u001b[39;00m\n\u001b[0;32m    121\u001b[0m     \u001b[38;5;66;03m# `keras.config.disable_traceback_filtering()`\u001b[39;00m\n\u001b[1;32m--> 122\u001b[0m     \u001b[38;5;28;01mraise\u001b[39;00m e\u001b[38;5;241m.\u001b[39mwith_traceback(filtered_tb) \u001b[38;5;28;01mfrom\u001b[39;00m \u001b[38;5;28;01mNone\u001b[39;00m\n\u001b[0;32m    123\u001b[0m \u001b[38;5;28;01mfinally\u001b[39;00m:\n\u001b[0;32m    124\u001b[0m     \u001b[38;5;28;01mdel\u001b[39;00m filtered_tb\n",
      "File \u001b[1;32m~\\anaconda3\\Lib\\site-packages\\optree\\ops.py:752\u001b[0m, in \u001b[0;36mtree_map\u001b[1;34m(func, tree, is_leaf, none_is_leaf, namespace, *rests)\u001b[0m\n\u001b[0;32m    750\u001b[0m leaves, treespec \u001b[38;5;241m=\u001b[39m _C\u001b[38;5;241m.\u001b[39mflatten(tree, is_leaf, none_is_leaf, namespace)\n\u001b[0;32m    751\u001b[0m flat_args \u001b[38;5;241m=\u001b[39m [leaves] \u001b[38;5;241m+\u001b[39m [treespec\u001b[38;5;241m.\u001b[39mflatten_up_to(r) \u001b[38;5;28;01mfor\u001b[39;00m r \u001b[38;5;129;01min\u001b[39;00m rests]\n\u001b[1;32m--> 752\u001b[0m \u001b[38;5;28;01mreturn\u001b[39;00m treespec\u001b[38;5;241m.\u001b[39munflatten(\u001b[38;5;28mmap\u001b[39m(func, \u001b[38;5;241m*\u001b[39mflat_args))\n",
      "\u001b[1;31mMemoryError\u001b[0m: Unable to allocate 15.2 GiB for an array with shape (2102575, 1943) and data type float32"
     ]
    }
   ],
   "source": [
    "# Train the model\n",
    "history = model.fit(X_train, y_train, validation_split=0.2, epochs=10, batch_size=32)"
   ]
  },
  {
   "cell_type": "code",
   "execution_count": null,
   "id": "03c2fc36-9f8c-48cc-8d17-e3980789d16b",
   "metadata": {},
   "outputs": [],
   "source": [
    "# Evaluate the model\n",
    "test_loss, test_accuracy = model.evaluate(X_test, y_test)\n",
    "print(f\"Test Accuracy: {test_accuracy * 100:.2f}%\")\n"
   ]
  },
  {
   "cell_type": "code",
   "execution_count": null,
   "id": "1629db46-cf5b-405b-abd0-b2c5153ccbfb",
   "metadata": {},
   "outputs": [],
   "source": [
    "# Predict a move for a sample FEN string\n",
    "sample_fen = X_test[0]\n",
    "predicted_class = np.argmax(model.predict(np.expand_dims(sample_fen, axis=0)))\n",
    "predicted_move = move_encoder.inverse_transform([predicted_class])\n",
    "print(\"Predicted Move:\", predicted_move)"
   ]
  },
  {
   "cell_type": "code",
   "execution_count": null,
   "id": "9e9f95cd-577c-4c89-ad51-0595b67c9af8",
   "metadata": {},
   "outputs": [],
   "source": [
    "# Evaluate with classification report\n",
    "y_test_decoded = np.argmax(y_test, axis=1)\n",
    "y_pred_decoded = np.argmax(model.predict(X_test), axis=1)\n",
    "print(\"Classification Report:\\n\", classification_report(y_test_decoded, y_pred_decoded))"
   ]
  }
 ],
 "metadata": {
  "kernelspec": {
   "display_name": "Python 3 (ipykernel)",
   "language": "python",
   "name": "python3"
  },
  "language_info": {
   "codemirror_mode": {
    "name": "ipython",
    "version": 3
   },
   "file_extension": ".py",
   "mimetype": "text/x-python",
   "name": "python",
   "nbconvert_exporter": "python",
   "pygments_lexer": "ipython3",
   "version": "3.12.7"
  }
 },
 "nbformat": 4,
 "nbformat_minor": 5
}
